{
 "cells": [
  {
   "cell_type": "markdown",
   "metadata": {},
   "source": [
    "<center> <h1>Pokemon/Dictionary Warmup</h1> </center>"
   ]
  },
  {
   "cell_type": "markdown",
   "metadata": {},
   "source": [
    "![Pokeball](https://encrypted-tbn0.gstatic.com/images?q=tbn%3AANd9GcSvFguv_4hYhwny0d7KdBcFYHYCZ0j2uEBtr3aYmJHqNKecqEsi&usqp=CAU)"
   ]
  },
  {
   "cell_type": "markdown",
   "metadata": {},
   "source": [
    "Joél is currently playing the Pokemon Crystal video game. \n",
    "\n",
    "Joél takes pokemon very seriously so they have downloaded [The Complete Pokemon Dataset](https://www.kaggle.com/rounakbanik/pokemon) from Kaggle and they need some help organizing the data.\n",
    "\n",
    "Let's use our dictionary parsing skills to help Joél out!"
   ]
  },
  {
   "cell_type": "markdown",
   "metadata": {},
   "source": [
    "**In the cell below,** we import the Pokemon Dataset.\n",
    "\n",
    "*Don't worry about this code for now. Just run the cell ☺️*"
   ]
  },
  {
   "cell_type": "code",
   "execution_count": null,
   "metadata": {
    "ExecuteTime": {
     "end_time": "2020-05-15T19:16:18.963697Z",
     "start_time": "2020-05-15T19:16:18.949590Z"
    }
   },
   "outputs": [],
   "source": [
    "import json\n",
    "import os\n",
    "\n",
    "path = os.path.join('data', 'pokemon.json')\n",
    "with open(path, 'r') as fp:\n",
    "    data = json.load(fp)"
   ]
  },
  {
   "cell_type": "code",
   "execution_count": 1,
   "metadata": {
    "ExecuteTime": {
     "end_time": "2020-11-12T22:04:41.961395Z",
     "start_time": "2020-11-12T22:04:41.949023Z"
    }
   },
   "outputs": [],
   "source": [
    "#__SOLUTION__\n",
    "import json\n",
    "import os\n",
    "\n",
    "path = os.path.join('data', 'pokemon.json')\n",
    "with open(path, 'r') as fp:\n",
    "    data = json.load(fp)"
   ]
  },
  {
   "cell_type": "markdown",
   "metadata": {},
   "source": [
    "Let's take a look at the data we just imported."
   ]
  },
  {
   "cell_type": "code",
   "execution_count": null,
   "metadata": {},
   "outputs": [],
   "source": [
    "data"
   ]
  },
  {
   "cell_type": "code",
   "execution_count": null,
   "metadata": {
    "ExecuteTime": {
     "end_time": "2020-11-12T22:04:35.714646Z",
     "start_time": "2020-11-12T22:04:35.074941Z"
    }
   },
   "outputs": [],
   "source": [
    "# __SOLUTION__\n",
    "data"
   ]
  },
  {
   "cell_type": "markdown",
   "metadata": {},
   "source": [
    "## Please answer the following questions below.\n",
    "\n",
    "**What datatype is the data above?**\n",
    "\n",
    "**What else can you say about the data variable?**"
   ]
  },
  {
   "cell_type": "code",
   "execution_count": null,
   "metadata": {
    "ExecuteTime": {
     "end_time": "2020-11-12T21:44:53.572945Z",
     "start_time": "2020-11-12T21:44:53.570892Z"
    }
   },
   "outputs": [],
   "source": [
    "# __SOLUTION__\n",
    "# The `data` variable is a dictionary datatype.\n",
    "\n",
    "# The data variable contains nested dictionaries for 4 out of 5 top level keys."
   ]
  },
  {
   "cell_type": "markdown",
   "metadata": {},
   "source": [
    "## Variable Assignment & Data Types – Practice\n",
    "\n",
    "Variable assignment is important! Writing professional quality code will often times require you to be very thoughtful about how you assign your variables. You may be asked to define a variable with a specific name, or with a specific data type. In scenarios like this, if you were to give a variable the incorrect name or incorrect data type, the entire project could break!\n",
    "\n",
    "The importance of how you define variables will be seen out at the end of this notebook where you will be asked to create variables that you will then submit to your instructor.  \n",
    "\n",
    "**Let's take a look at some examples.**"
   ]
  },
  {
   "cell_type": "markdown",
   "metadata": {},
   "source": [
    "<u>The following information is true about Joél's pokemon.</u>\n",
    "\n",
    "- Joél has caught `5` pokemon\n",
    "- Joél's pokemon trainer level is `'Apprentice'`.\n",
    "- Joél's coolest pokemon is `'Haunter'`.\n",
    "- Joél's favorite pokemon is `'Kadabra'`.\n",
    "- Joél plays pokemon for 1.5 hours a day.\n",
    "\n",
    "<u>Additionally, the names of Joél's five pokemon are:</u>\n",
    "\n",
    "1. Bayleef\n",
    "2. Haunter\n",
    "3. Poliwag\n",
    "4. Pidgeotto\n",
    "5.  Kadabra\n",
    "\n",
    "### Please create the following variables given the information above:\n",
    "\n",
    "- `pokemon_count` that has a datatype of integer.\n",
    "- `trainer_level` that has a datatype of string.\n",
    "- `coolest_pokemon` that has a datatype of string.\n",
    "- `favorite_pokemon` that has a datatype of string.\n",
    "- `hours_per_day` that has a datatype of float.\n",
    "- `joels_pokemon_names` that has a datatype of list."
   ]
  },
  {
   "cell_type": "code",
   "execution_count": null,
   "metadata": {},
   "outputs": [],
   "source": [
    "# Your code here"
   ]
  },
  {
   "cell_type": "code",
   "execution_count": 2,
   "metadata": {
    "ExecuteTime": {
     "end_time": "2020-11-12T22:04:47.487282Z",
     "start_time": "2020-11-12T22:04:47.484530Z"
    }
   },
   "outputs": [],
   "source": [
    "# __SOLUTION__\n",
    "pokemon_count = 5\n",
    "trainer_level = 'Apprentice'\n",
    "coolest_pokemon = 'Haunter'\n",
    "favorite_pokemon = 'Kadabra'\n",
    "hours_per_day = 1.5\n",
    "joels_pokemon_names = ['Bayleef', 'Haunter', 'Poliwag', 'Pidgeotto', 'Kadabra']"
   ]
  },
  {
   "cell_type": "markdown",
   "metadata": {
    "ExecuteTime": {
     "end_time": "2020-11-12T21:46:06.682070Z",
     "start_time": "2020-11-12T21:46:06.678466Z"
    }
   },
   "source": [
    "The cell below tests whether or not you assigned your variables correctly!"
   ]
  },
  {
   "cell_type": "code",
   "execution_count": null,
   "metadata": {},
   "outputs": [],
   "source": [
    "from tests import VariableAssignment\n",
    "\n",
    "test = VariableAssignment()\n",
    "\n",
    "test.run(pokemon_count, trainer_level, \n",
    "         coolest_pokemon, favorite_pokemon,\n",
    "        hours_per_day, joels_pokemon_names)"
   ]
  },
  {
   "cell_type": "code",
   "execution_count": 3,
   "metadata": {
    "ExecuteTime": {
     "end_time": "2020-11-12T22:04:51.219798Z",
     "start_time": "2020-11-12T22:04:51.215024Z"
    }
   },
   "outputs": [
    {
     "name": "stdout",
     "output_type": "stream",
     "text": [
      "✅ All tests were passed!\n"
     ]
    }
   ],
   "source": [
    "# __SOLUTION__\n",
    "from tests import VariableAssignment\n",
    "\n",
    "test = VariableAssignment()\n",
    "\n",
    "test.run(pokemon_count, trainer_level, \n",
    "         coolest_pokemon, favorite_pokemon,\n",
    "        hours_per_day, joels_pokemon_names)"
   ]
  },
  {
   "cell_type": "markdown",
   "metadata": {},
   "source": [
    "# Looping\n",
    "\n",
    "Looping is the bread and butter of code. Code is powerful because of it's speed and is especially skilled at completing repetitive tasks. \n",
    "\n",
    "### A simple for loop\n",
    "\n",
    "Let's loop over the `joels_pokemon_names` list and print out each of the pokemon."
   ]
  },
  {
   "cell_type": "code",
   "execution_count": null,
   "metadata": {},
   "outputs": [],
   "source": [
    "# Your code here"
   ]
  },
  {
   "cell_type": "code",
   "execution_count": 4,
   "metadata": {
    "ExecuteTime": {
     "end_time": "2020-11-12T22:04:55.753946Z",
     "start_time": "2020-11-12T22:04:55.750939Z"
    }
   },
   "outputs": [
    {
     "name": "stdout",
     "output_type": "stream",
     "text": [
      "Bayleef\n",
      "Haunter\n",
      "Poliwag\n",
      "Pidgeotto\n",
      "Kadabra\n"
     ]
    }
   ],
   "source": [
    "# __SOLUTION__\n",
    "\n",
    "for name in joels_pokemon_names:\n",
    "    print(name)\n"
   ]
  },
  {
   "cell_type": "markdown",
   "metadata": {},
   "source": [
    "### Looping over a dictionary\n",
    "\n",
    "To loop over a dictionary we will need to loop over the keys of the dictionary. \n",
    "\n",
    "<u>In the cell below,</u> \n",
    "\n",
    "- Assign the variable `data_keys` to a list containing the keys for the `data` variable."
   ]
  },
  {
   "cell_type": "code",
   "execution_count": null,
   "metadata": {},
   "outputs": [],
   "source": [
    "# Your code here"
   ]
  },
  {
   "cell_type": "code",
   "execution_count": 5,
   "metadata": {
    "ExecuteTime": {
     "end_time": "2020-11-12T22:04:58.462529Z",
     "start_time": "2020-11-12T22:04:58.460234Z"
    }
   },
   "outputs": [],
   "source": [
    "# __SOLUTION__\n",
    "data_keys = list(data)"
   ]
  },
  {
   "cell_type": "markdown",
   "metadata": {},
   "source": [
    "### How many keys are in this dictionary?\n",
    "\n",
    "In the cell below, set the variable `pokemon_total` to the number of keys in the dictionary."
   ]
  },
  {
   "cell_type": "code",
   "execution_count": 6,
   "metadata": {
    "ExecuteTime": {
     "end_time": "2020-11-12T22:04:59.437485Z",
     "start_time": "2020-11-12T22:04:59.435115Z"
    }
   },
   "outputs": [],
   "source": [
    "# Your code here"
   ]
  },
  {
   "cell_type": "code",
   "execution_count": 7,
   "metadata": {
    "ExecuteTime": {
     "end_time": "2020-11-12T22:04:59.826401Z",
     "start_time": "2020-11-12T22:04:59.824577Z"
    }
   },
   "outputs": [],
   "source": [
    "# __SOLUTION__\n",
    "pokemon_total = len(data_keys)"
   ]
  },
  {
   "cell_type": "markdown",
   "metadata": {},
   "source": [
    "### Simple loop over dictionary\n",
    "\n",
    "Now let's loop over the dictionary and save the top level value (i.e. everything but the key) to a list called `pokedex`.\n",
    "\n",
    "Note: This is just an exercise.  `pokedex` will not be used further."
   ]
  },
  {
   "cell_type": "code",
   "execution_count": null,
   "metadata": {},
   "outputs": [],
   "source": [
    "# Your code here"
   ]
  },
  {
   "cell_type": "code",
   "execution_count": 8,
   "metadata": {
    "ExecuteTime": {
     "end_time": "2020-11-12T22:05:03.542319Z",
     "start_time": "2020-11-12T22:05:03.539791Z"
    }
   },
   "outputs": [],
   "source": [
    "# __SOLUTION__\n",
    "pokedex = []\n",
    "for key in data_keys:\n",
    "    pokedex.append(data[key])"
   ]
  },
  {
   "cell_type": "code",
   "execution_count": null,
   "metadata": {},
   "outputs": [],
   "source": [
    "# Your code here"
   ]
  },
  {
   "cell_type": "markdown",
   "metadata": {},
   "source": [
    "### Let's create a new dictionary called ```joels_pokemon```. \n",
    "\n",
    "To do this, we will:\n",
    "1. Create an empty dictionary called ```joels_pokemon```\n",
    "2. Loop over the names in the ```joels_pokemon_names``` list\n",
    "3. Use the name to access the pokemon's information in the ```data``` dictionary\n",
    "4. Add the pokemon name to the ```joels_pokemon``` dictionary as a ```key``` and the pokemon's information as the key's ```value```"
   ]
  },
  {
   "cell_type": "code",
   "execution_count": null,
   "metadata": {},
   "outputs": [],
   "source": [
    "# Your code here"
   ]
  },
  {
   "cell_type": "code",
   "execution_count": 9,
   "metadata": {
    "ExecuteTime": {
     "end_time": "2020-11-12T22:05:12.203137Z",
     "start_time": "2020-11-12T22:05:12.200431Z"
    }
   },
   "outputs": [],
   "source": [
    "# __SOLUTION__\n",
    "joels_pokemon = {}\n",
    "\n",
    "for pokemon in joels_pokemon_names:\n",
    "    joels_pokemon[pokemon] =  data[pokemon]"
   ]
  },
  {
   "cell_type": "markdown",
   "metadata": {},
   "source": [
    "Run the cell below to see if you successfully made the joels_pokemon dictionary!"
   ]
  },
  {
   "cell_type": "code",
   "execution_count": null,
   "metadata": {},
   "outputs": [],
   "source": [
    "from tests import CheckDictionary\n",
    "\n",
    "test = CheckDictionary(joels_pokemon)\n",
    "test.run()"
   ]
  },
  {
   "cell_type": "code",
   "execution_count": 10,
   "metadata": {
    "ExecuteTime": {
     "end_time": "2020-11-12T22:05:16.584807Z",
     "start_time": "2020-11-12T22:05:16.576654Z"
    }
   },
   "outputs": [
    {
     "data": {
      "text/markdown": [
       "# ✅ Your dictionary passed 2 out of 2 tests!\n",
       "\n",
       ">✅ *Dictionary Keys are correct!*\n",
       "\n",
       ">✅ *Dictionary data are correct!*"
      ],
      "text/plain": [
       "<IPython.core.display.Markdown object>"
      ]
     },
     "metadata": {},
     "output_type": "display_data"
    }
   ],
   "source": [
    "# __SOLUTION__\n",
    "from tests import CheckDictionary\n",
    "\n",
    "test = CheckDictionary(joels_pokemon)\n",
    "test.run()"
   ]
  },
  {
   "cell_type": "markdown",
   "metadata": {},
   "source": [
    "# Visualization\n",
    "\n",
    "Let's figure out which pokemon is Joél's strongest pokemon!\n",
    "\n",
    "<u>In the cell below</u> \n",
    "\n",
    "- Create a  bar plot for that shows the attack stat for each of joel's 5 pokemon.\n",
    "- Give the plot the following title: `Joel's pokemon stats`."
   ]
  },
  {
   "cell_type": "code",
   "execution_count": null,
   "metadata": {},
   "outputs": [],
   "source": [
    "# Your code here"
   ]
  },
  {
   "cell_type": "code",
   "execution_count": 11,
   "metadata": {
    "ExecuteTime": {
     "end_time": "2020-11-12T22:05:21.775872Z",
     "start_time": "2020-11-12T22:05:21.283786Z"
    }
   },
   "outputs": [
    {
     "data": {
      "image/png": "[encoded data removed]",
      "text/plain": [
       "<Figure size 432x288 with 1 Axes>"
      ]
     },
     "metadata": {
      "needs_background": "light"
     },
     "output_type": "display_data"
    }
   ],
   "source": [
    "# __SOLUTION__\n",
    "import matplotlib.pyplot as plt\n",
    "\n",
    "attack_stats = [joels_pokemon[pokemon]['stats']['attack'] for pokemon in joels_pokemon]\n",
    "names = list(joels_pokemon)\n",
    "\n",
    "plt.bar(names, attack_stats)\n",
    "plt.title(\"Joél's pokemon stats\");"
   ]
  },
  {
   "cell_type": "markdown",
   "metadata": {},
   "source": [
    "**What if we wanted to sort the graph?**\n",
    "\n",
    "There is a couple ways we can do this, but a useful way of doing it would be to sort the dictionary itself!"
   ]
  },
  {
   "cell_type": "code",
   "execution_count": null,
   "metadata": {},
   "outputs": [],
   "source": [
    "sorted_dict = dict(sorted(joels_pokemon.items(), key=lambda item: item[1]['stats']['attack']))\n",
    "\n",
    "attack_stats = [sorted_dict[pokemon]['stats']['attack'] for pokemon in sorted_dict]\n",
    "names = list(sorted_dict)\n",
    "\n",
    "plt.bar(names, attack_stats)\n",
    "plt.title(\"Joél's pokemon stats\");"
   ]
  },
  {
   "cell_type": "code",
   "execution_count": 12,
   "metadata": {
    "ExecuteTime": {
     "end_time": "2020-11-12T22:05:24.601868Z",
     "start_time": "2020-11-12T22:05:24.466463Z"
    }
   },
   "outputs": [
    {
     "data": {
      "image/png": "[encoded data removed]",
      "text/plain": [
       "<Figure size 432x288 with 1 Axes>"
      ]
     },
     "metadata": {
      "needs_background": "light"
     },
     "output_type": "display_data"
    }
   ],
   "source": [
    "# __SOLUTION__\n",
    "sorted_dict = dict(sorted(joels_pokemon.items(), key=lambda item: item[1]['stats']['attack']))\n",
    "\n",
    "attack_stats = [sorted_dict[pokemon]['stats']['attack'] for pokemon in sorted_dict]\n",
    "names = list(sorted_dict)\n",
    "\n",
    "plt.bar(names, attack_stats)\n",
    "plt.title(\"Joél's pokemon stats\");"
   ]
  },
  {
   "cell_type": "markdown",
   "metadata": {},
   "source": [
    "![](https://gamepress.gg/pokemonmasters/sites/pokemonmasters/files/styles/300h/public/2019-08/pm0153_00_bayleaf_256.ktx.png?itok=Tr7OMsm1)"
   ]
  },
  {
   "cell_type": "markdown",
   "metadata": {},
   "source": [
    "**Bayleef** is Joél's strongest pokemon. Let's create a list of all Pokemon that Bayleef is weak against.\n",
    "\n",
    "Our dictionary gives us the *Types* of pokemon Bayleef is weak to. Our dictionary also gives us the type for each pokemon. So first we have to figure out what types of pokemon Bayleef is weak to, then grab every pokemon that has that type.\n",
    "\n",
    "**Ok, here is how we will do it.**\n",
    "\n",
    "*Weakness* is measured with the ```weakness``` key in our data. If the weakness value = 2, that means the pokemon is extremely weak to that type of pokemon. \n",
    "\n",
    "To find all pokemon that Bayleef is weak to, we have to:\n",
    "1. Isolate Bayleef's weakness data from our dictionary\n",
    "2. Identify any type that has a weakness score of 2 and append those types to a list called ```weakness_types```\n",
    "3. Loop over our entire dataset\n",
    "4. Identify pokemon who have a type that match the types in our ```weakness_types``` list.\n",
    "> **Hint** The type of each pokemon can be found using the ```stats``` key\n",
    "5. Append the names of those pokemon to a list called ```bayleef_weakness```\n",
    "\n",
    "-----------------\n",
    "\n",
    "**Let's walk through steps 1 and 2.**\n",
    "\n",
    "You will code steps 3-5!"
   ]
  },
  {
   "cell_type": "markdown",
   "metadata": {},
   "source": [
    "**Step 1:** Isolate Bayleef's weakness data from our dictionary"
   ]
  },
  {
   "cell_type": "code",
   "execution_count": null,
   "metadata": {},
   "outputs": [],
   "source": [
    "bayleef_weakness_scores = data['Bayleef']['weakness']"
   ]
  },
  {
   "cell_type": "code",
   "execution_count": 13,
   "metadata": {
    "ExecuteTime": {
     "end_time": "2020-11-12T22:05:28.811843Z",
     "start_time": "2020-11-12T22:05:28.809521Z"
    }
   },
   "outputs": [],
   "source": [
    "# __SOLUTION__\n",
    "bayleef_weakness_scores = data['Bayleef']['weakness']"
   ]
  },
  {
   "cell_type": "markdown",
   "metadata": {},
   "source": [
    "**Step 2:** Identify any type that has a weakness score of 2 and appending those types to a list called ```weakness_types```\n",
    "\n",
    "\n",
    "We do this by:\n",
    "1. Creating an empty list\n",
    "2. Looping over the keys of our newly made dictionary```bayleef_weakness_score```.\n",
    "    - Each key is a pokemon type\n",
    "3. Checking if the score equals 2\n",
    "4. Appending the key to our empty list if the score equals 2"
   ]
  },
  {
   "cell_type": "code",
   "execution_count": null,
   "metadata": {},
   "outputs": [],
   "source": [
    "weakness_types = []\n",
    "\n",
    "for weakness in bayleef_weakness_scores.keys():\n",
    "    if bayleef_weakness_scores[weakness] == 2:\n",
    "        weakness_types.append(weakness)\n",
    "        \n",
    "weakness_types"
   ]
  },
  {
   "cell_type": "code",
   "execution_count": 14,
   "metadata": {
    "ExecuteTime": {
     "end_time": "2020-11-12T22:05:32.122129Z",
     "start_time": "2020-11-12T22:05:32.118222Z"
    }
   },
   "outputs": [
    {
     "data": {
      "text/plain": [
       "['ice', 'poison', 'bug', 'fire', 'flying']"
      ]
     },
     "execution_count": 14,
     "metadata": {},
     "output_type": "execute_result"
    }
   ],
   "source": [
    "# __SOLUTION__\n",
    "weakness_types = []\n",
    "\n",
    "for weakness in bayleef_weakness_scores.keys():\n",
    "    if bayleef_weakness_scores[weakness] == 2:\n",
    "        weakness_types.append(weakness)\n",
    "        \n",
    "weakness_types"
   ]
  },
  {
   "cell_type": "markdown",
   "metadata": {},
   "source": [
    "Bayleef is weak to ice, poison, bug, fire, and flying pokemon. \n",
    "\n",
    "\n",
    "# Now your turn.\n",
    "\n",
    "In the cell below, use the weakness_types list to identify pokemon that have one of those types, and append those pokemon to a list named ```bayleef_weakness```. \n",
    "\n",
    ">**Hint** The code will be very similar to the code for step 2.\n",
    "\n",
    ">**Hint** Make sure your list doesn't contain duplicates of the same pokemon!"
   ]
  },
  {
   "cell_type": "code",
   "execution_count": null,
   "metadata": {},
   "outputs": [],
   "source": [
    "# Your code here"
   ]
  },
  {
   "cell_type": "code",
   "execution_count": 15,
   "metadata": {
    "ExecuteTime": {
     "end_time": "2020-11-12T22:05:35.475415Z",
     "start_time": "2020-11-12T22:05:35.471735Z"
    }
   },
   "outputs": [],
   "source": [
    "# __SOLUTION__\n",
    "bayleef_weakness = set()\n",
    "for key in data.keys():\n",
    "    if data[key]['stats']['type1'] in weakness_types:\n",
    "        bayleef_weakness.add(key)\n",
    "    elif data[key]['stats']['type2'] in weakness_types:\n",
    "        bayleef_weakness.add(key)\n",
    "        \n",
    "bayleef_weakness = list(bayleef_weakness)"
   ]
  },
  {
   "cell_type": "markdown",
   "metadata": {},
   "source": [
    "Run the cell below to test your code! ⬇️"
   ]
  },
  {
   "cell_type": "code",
   "execution_count": null,
   "metadata": {},
   "outputs": [],
   "source": [
    "from tests import ListCheck\n",
    "test = ListCheck(bayleef_weakness)\n",
    "test.run()"
   ]
  },
  {
   "cell_type": "code",
   "execution_count": 16,
   "metadata": {
    "ExecuteTime": {
     "end_time": "2020-11-12T22:05:38.327154Z",
     "start_time": "2020-11-12T22:05:38.323436Z"
    }
   },
   "outputs": [
    {
     "data": {
      "text/markdown": [
       "# Your list passed 2 out of 2 tests!\n",
       "\n",
       ">✅ *List length is correct!*\n",
       "\n",
       ">✅ *List data are correct*"
      ],
      "text/plain": [
       "<IPython.core.display.Markdown object>"
      ]
     },
     "metadata": {},
     "output_type": "display_data"
    }
   ],
   "source": [
    "# __SOLUTION__\n",
    "from tests import ListCheck\n",
    "test = ListCheck(bayleef_weakness)\n",
    "test.run()"
   ]
  },
  {
   "cell_type": "code",
   "execution_count": null,
   "metadata": {},
   "outputs": [],
   "source": []
  }
 ],
 "metadata": {
  "hide_input": false,
  "kernelspec": {
   "display_name": "Python 3",
   "language": "python",
   "name": "python3"
  },
  "language_info": {
   "codemirror_mode": {
    "name": "ipython",
    "version": 3
   },
   "file_extension": ".py",
   "mimetype": "text/x-python",
   "name": "python",
   "nbconvert_exporter": "python",
   "pygments_lexer": "ipython3",
   "version": "3.7.3"
  },
  "toc": {
   "base_numbering": 1,
   "nav_menu": {},
   "number_sections": false,
   "sideBar": true,
   "skip_h1_title": true,
   "title_cell": "Table of Contents",
   "title_sidebar": "Contents",
   "toc_cell": false,
   "toc_position": {},
   "toc_section_display": true,
   "toc_window_display": false
  },
  "varInspector": {
   "cols": {
    "lenName": 16,
    "lenType": 16,
    "lenVar": 40
   },
   "kernels_config": {
    "python": {
     "delete_cmd_postfix": "",
     "delete_cmd_prefix": "del ",
     "library": "var_list.py",
     "varRefreshCmd": "print(var_dic_list())"
    },
    "r": {
     "delete_cmd_postfix": ") ",
     "delete_cmd_prefix": "rm(",
     "library": "var_list.r",
     "varRefreshCmd": "cat(var_dic_list()) "
    }
   },
   "types_to_exclude": [
    "module",
    "function",
    "builtin_function_or_method",
    "instance",
    "_Feature"
   ],
   "window_display": false
  }
 },
 "nbformat": 4,
 "nbformat_minor": 4
}
